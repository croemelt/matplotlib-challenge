{
 "cells": [
  {
   "cell_type": "markdown",
   "metadata": {},
   "source": [
    "## Observations and Insights"
   ]
  },
  {
   "cell_type": "markdown",
   "metadata": {},
   "source": [
    "1. Eight of the ten drugs tested are noticably worse than the two standouts Capomulin and Ramcine.  The other eight has similar results to the placebo which could indicate the drugs are ineffective.  Furhter testing on these two should be done on a larger population to see if the population will reflect similar results\n",
    "2. The correlation of the study on capolumin is quite high at 0.8.  Though we are looking at more of sample than a population, the beginning results are proving very well.\n",
    "3. There appears two be a few outliers on the low end for both Capomulin and Ramcine.  This could pull altering the data slightly, but not greatly enough to skew the entire study."
   ]
  },
  {
   "cell_type": "markdown",
   "metadata": {},
   "source": [
    "## Dependencies and starter code"
   ]
  },
  {
   "cell_type": "code",
   "execution_count": 80,
   "metadata": {},
   "outputs": [
    {
     "data": {
      "text/html": [
       "<div>\n",
       "<style scoped>\n",
       "    .dataframe tbody tr th:only-of-type {\n",
       "        vertical-align: middle;\n",
       "    }\n",
       "\n",
       "    .dataframe tbody tr th {\n",
       "        vertical-align: top;\n",
       "    }\n",
       "\n",
       "    .dataframe thead th {\n",
       "        text-align: right;\n",
       "    }\n",
       "</style>\n",
       "<table border=\"1\" class=\"dataframe\">\n",
       "  <thead>\n",
       "    <tr style=\"text-align: right;\">\n",
       "      <th></th>\n",
       "      <th>Mouse ID</th>\n",
       "      <th>Drug Regimen</th>\n",
       "      <th>Sex</th>\n",
       "      <th>Age_months</th>\n",
       "      <th>Weight (g)</th>\n",
       "      <th>Timepoint</th>\n",
       "      <th>Tumor Volume (mm3)</th>\n",
       "      <th>Metastatic Sites</th>\n",
       "    </tr>\n",
       "  </thead>\n",
       "  <tbody>\n",
       "    <tr>\n",
       "      <th>0</th>\n",
       "      <td>k403</td>\n",
       "      <td>Ramicane</td>\n",
       "      <td>Male</td>\n",
       "      <td>21</td>\n",
       "      <td>16</td>\n",
       "      <td>0</td>\n",
       "      <td>45.000000</td>\n",
       "      <td>0</td>\n",
       "    </tr>\n",
       "    <tr>\n",
       "      <th>1</th>\n",
       "      <td>k403</td>\n",
       "      <td>Ramicane</td>\n",
       "      <td>Male</td>\n",
       "      <td>21</td>\n",
       "      <td>16</td>\n",
       "      <td>5</td>\n",
       "      <td>38.825898</td>\n",
       "      <td>0</td>\n",
       "    </tr>\n",
       "    <tr>\n",
       "      <th>2</th>\n",
       "      <td>k403</td>\n",
       "      <td>Ramicane</td>\n",
       "      <td>Male</td>\n",
       "      <td>21</td>\n",
       "      <td>16</td>\n",
       "      <td>10</td>\n",
       "      <td>35.014271</td>\n",
       "      <td>1</td>\n",
       "    </tr>\n",
       "    <tr>\n",
       "      <th>3</th>\n",
       "      <td>k403</td>\n",
       "      <td>Ramicane</td>\n",
       "      <td>Male</td>\n",
       "      <td>21</td>\n",
       "      <td>16</td>\n",
       "      <td>15</td>\n",
       "      <td>34.223992</td>\n",
       "      <td>1</td>\n",
       "    </tr>\n",
       "    <tr>\n",
       "      <th>4</th>\n",
       "      <td>k403</td>\n",
       "      <td>Ramicane</td>\n",
       "      <td>Male</td>\n",
       "      <td>21</td>\n",
       "      <td>16</td>\n",
       "      <td>20</td>\n",
       "      <td>32.997729</td>\n",
       "      <td>1</td>\n",
       "    </tr>\n",
       "  </tbody>\n",
       "</table>\n",
       "</div>"
      ],
      "text/plain": [
       "  Mouse ID Drug Regimen   Sex  Age_months  Weight (g)  Timepoint  \\\n",
       "0     k403     Ramicane  Male          21          16          0   \n",
       "1     k403     Ramicane  Male          21          16          5   \n",
       "2     k403     Ramicane  Male          21          16         10   \n",
       "3     k403     Ramicane  Male          21          16         15   \n",
       "4     k403     Ramicane  Male          21          16         20   \n",
       "\n",
       "   Tumor Volume (mm3)  Metastatic Sites  \n",
       "0           45.000000                 0  \n",
       "1           38.825898                 0  \n",
       "2           35.014271                 1  \n",
       "3           34.223992                 1  \n",
       "4           32.997729                 1  "
      ]
     },
     "execution_count": 80,
     "metadata": {},
     "output_type": "execute_result"
    }
   ],
   "source": [
    "# Dependencies and Setup\n",
    "import matplotlib.pyplot as plt\n",
    "import pandas as pd\n",
    "import scipy.stats as st\n",
    "import random\n",
    "\n",
    "# Study data files\n",
    "mouse_metadata = \"data/Mouse_metadata.csv\"\n",
    "study_results = \"data/Study_results.csv\"\n",
    "\n",
    "# Read the mouse data and the study results\n",
    "mouse_metadata = pd.read_csv(mouse_metadata)\n",
    "study_results = pd.read_csv(study_results)\n",
    "\n",
    "# Combine the data into a single dataset\n",
    "combined_df = pd.merge(mouse_metadata, study_results, on=\"Mouse ID\")\n",
    "combined_df.head()"
   ]
  },
  {
   "cell_type": "code",
   "execution_count": 2,
   "metadata": {},
   "outputs": [
    {
     "data": {
      "text/plain": [
       "Mouse ID              1893\n",
       "Drug Regimen          1893\n",
       "Sex                   1893\n",
       "Age_months            1893\n",
       "Weight (g)            1893\n",
       "Timepoint             1893\n",
       "Tumor Volume (mm3)    1893\n",
       "Metastatic Sites      1893\n",
       "dtype: int64"
      ]
     },
     "execution_count": 2,
     "metadata": {},
     "output_type": "execute_result"
    }
   ],
   "source": [
    "#Ensuring clean data\n",
    "combined_df.count()"
   ]
  },
  {
   "cell_type": "code",
   "execution_count": 3,
   "metadata": {},
   "outputs": [
    {
     "data": {
      "text/plain": [
       "array(['Ramicane', 'Capomulin', 'Infubinol', 'Placebo', 'Ceftamin',\n",
       "       'Stelasyn', 'Zoniferol', 'Ketapril', 'Propriva', 'Naftisol'],\n",
       "      dtype=object)"
      ]
     },
     "execution_count": 3,
     "metadata": {},
     "output_type": "execute_result"
    }
   ],
   "source": [
    "#Unique drug names\n",
    "drug_names = combined_df[\"Drug Regimen\"].unique()\n",
    "drug_names"
   ]
  },
  {
   "cell_type": "markdown",
   "metadata": {},
   "source": [
    "## Summary statistics"
   ]
  },
  {
   "cell_type": "code",
   "execution_count": 8,
   "metadata": {},
   "outputs": [],
   "source": [
    "# Set up group by for drug\n",
    "drug_type = combined_df.groupby([\"Drug Regimen\"])\n",
    "# Generate a summary statistics table of mean, median, variance, standard deviation, and SEM of the tumor volume for each regimen\n",
    "tumor_mean = drug_type['Tumor Volume (mm3)'].mean()\n",
    "tumor_median = drug_type['Tumor Volume (mm3)'].median()\n",
    "tumor_var = drug_type['Tumor Volume (mm3)'].var()\n",
    "tumor_std = drug_type['Tumor Volume (mm3)'].std()\n",
    "tumor_sem = drug_type['Tumor Volume (mm3)'].sem()\n"
   ]
  },
  {
   "cell_type": "code",
   "execution_count": 47,
   "metadata": {},
   "outputs": [
    {
     "data": {
      "text/html": [
       "<div>\n",
       "<style scoped>\n",
       "    .dataframe tbody tr th:only-of-type {\n",
       "        vertical-align: middle;\n",
       "    }\n",
       "\n",
       "    .dataframe tbody tr th {\n",
       "        vertical-align: top;\n",
       "    }\n",
       "\n",
       "    .dataframe thead th {\n",
       "        text-align: right;\n",
       "    }\n",
       "</style>\n",
       "<table border=\"1\" class=\"dataframe\">\n",
       "  <thead>\n",
       "    <tr style=\"text-align: right;\">\n",
       "      <th></th>\n",
       "      <th>Tumor Average</th>\n",
       "      <th>Tumor Median</th>\n",
       "      <th>Tumor Variance</th>\n",
       "      <th>Tumor STD</th>\n",
       "      <th>Tumor SEM</th>\n",
       "    </tr>\n",
       "    <tr>\n",
       "      <th>Drug Regimen</th>\n",
       "      <th></th>\n",
       "      <th></th>\n",
       "      <th></th>\n",
       "      <th></th>\n",
       "      <th></th>\n",
       "    </tr>\n",
       "  </thead>\n",
       "  <tbody>\n",
       "    <tr>\n",
       "      <th>Ramicane</th>\n",
       "      <td>40.216745</td>\n",
       "      <td>40.673236</td>\n",
       "      <td>23.486704</td>\n",
       "      <td>4.846308</td>\n",
       "      <td>0.320955</td>\n",
       "    </tr>\n",
       "    <tr>\n",
       "      <th>Capomulin</th>\n",
       "      <td>40.675741</td>\n",
       "      <td>41.557809</td>\n",
       "      <td>24.947764</td>\n",
       "      <td>4.994774</td>\n",
       "      <td>0.329346</td>\n",
       "    </tr>\n",
       "    <tr>\n",
       "      <th>Propriva</th>\n",
       "      <td>52.322552</td>\n",
       "      <td>50.854632</td>\n",
       "      <td>42.351070</td>\n",
       "      <td>6.507770</td>\n",
       "      <td>0.512884</td>\n",
       "    </tr>\n",
       "    <tr>\n",
       "      <th>Ceftamin</th>\n",
       "      <td>52.591172</td>\n",
       "      <td>51.776157</td>\n",
       "      <td>39.290177</td>\n",
       "      <td>6.268188</td>\n",
       "      <td>0.469821</td>\n",
       "    </tr>\n",
       "    <tr>\n",
       "      <th>Infubinol</th>\n",
       "      <td>52.884795</td>\n",
       "      <td>51.820584</td>\n",
       "      <td>43.128684</td>\n",
       "      <td>6.567243</td>\n",
       "      <td>0.492236</td>\n",
       "    </tr>\n",
       "    <tr>\n",
       "      <th>Zoniferol</th>\n",
       "      <td>53.236507</td>\n",
       "      <td>51.818479</td>\n",
       "      <td>48.533355</td>\n",
       "      <td>6.966589</td>\n",
       "      <td>0.516398</td>\n",
       "    </tr>\n",
       "    <tr>\n",
       "      <th>Placebo</th>\n",
       "      <td>54.033581</td>\n",
       "      <td>52.288934</td>\n",
       "      <td>61.168083</td>\n",
       "      <td>7.821003</td>\n",
       "      <td>0.581331</td>\n",
       "    </tr>\n",
       "    <tr>\n",
       "      <th>Stelasyn</th>\n",
       "      <td>54.233149</td>\n",
       "      <td>52.431737</td>\n",
       "      <td>59.450562</td>\n",
       "      <td>7.710419</td>\n",
       "      <td>0.573111</td>\n",
       "    </tr>\n",
       "    <tr>\n",
       "      <th>Naftisol</th>\n",
       "      <td>54.331565</td>\n",
       "      <td>52.509285</td>\n",
       "      <td>66.173479</td>\n",
       "      <td>8.134708</td>\n",
       "      <td>0.596466</td>\n",
       "    </tr>\n",
       "    <tr>\n",
       "      <th>Ketapril</th>\n",
       "      <td>55.235638</td>\n",
       "      <td>53.698743</td>\n",
       "      <td>68.553577</td>\n",
       "      <td>8.279709</td>\n",
       "      <td>0.603860</td>\n",
       "    </tr>\n",
       "  </tbody>\n",
       "</table>\n",
       "</div>"
      ],
      "text/plain": [
       "              Tumor Average  Tumor Median  Tumor Variance  Tumor STD  \\\n",
       "Drug Regimen                                                           \n",
       "Ramicane          40.216745     40.673236       23.486704   4.846308   \n",
       "Capomulin         40.675741     41.557809       24.947764   4.994774   \n",
       "Propriva          52.322552     50.854632       42.351070   6.507770   \n",
       "Ceftamin          52.591172     51.776157       39.290177   6.268188   \n",
       "Infubinol         52.884795     51.820584       43.128684   6.567243   \n",
       "Zoniferol         53.236507     51.818479       48.533355   6.966589   \n",
       "Placebo           54.033581     52.288934       61.168083   7.821003   \n",
       "Stelasyn          54.233149     52.431737       59.450562   7.710419   \n",
       "Naftisol          54.331565     52.509285       66.173479   8.134708   \n",
       "Ketapril          55.235638     53.698743       68.553577   8.279709   \n",
       "\n",
       "              Tumor SEM  \n",
       "Drug Regimen             \n",
       "Ramicane       0.320955  \n",
       "Capomulin      0.329346  \n",
       "Propriva       0.512884  \n",
       "Ceftamin       0.469821  \n",
       "Infubinol      0.492236  \n",
       "Zoniferol      0.516398  \n",
       "Placebo        0.581331  \n",
       "Stelasyn       0.573111  \n",
       "Naftisol       0.596466  \n",
       "Ketapril       0.603860  "
      ]
     },
     "execution_count": 47,
     "metadata": {},
     "output_type": "execute_result"
    }
   ],
   "source": [
    "# Generate a summary statistics table of mean, median, variance, standard deviation, and SEM of the tumor volume for each regimen\n",
    "summary_df = pd.DataFrame({\"Tumor Average\": tumor_mean,\n",
    "               \"Tumor Median\": tumor_median,\n",
    "               \"Tumor Variance\": tumor_var,\n",
    "               \"Tumor STD\": tumor_std,\n",
    "               \"Tumor SEM\": tumor_sem})\n",
    "\n",
    "sorted_df = summary_df.sort_values(\"Tumor Average\", ascending=True)\n",
    "sorted_df"
   ]
  },
  {
   "cell_type": "markdown",
   "metadata": {},
   "source": [
    "## Bar plots"
   ]
  },
  {
   "cell_type": "code",
   "execution_count": 22,
   "metadata": {},
   "outputs": [
    {
     "data": {
      "text/plain": [
       "<matplotlib.axes._subplots.AxesSubplot at 0x10743af0>"
      ]
     },
     "execution_count": 22,
     "metadata": {},
     "output_type": "execute_result"
    },
    {
     "data": {
      "image/png": "[encoded data removed]",
      "text/plain": [
       "<Figure size 432x288 with 1 Axes>"
      ]
     },
     "metadata": {
      "needs_background": "light"
     },
     "output_type": "display_data"
    }
   ],
   "source": [
    "# Generate a bar plot showing number of data points for each treatment regimen using pandas\n",
    "#summary_df.plot(kind=\"bar\", figsize=(8,5))\n",
    "pypharm_pandas = combined_df[\"Drug Regimen\"].value_counts().plot(kind=\"bar\")\n",
    "pypharm_pandas.set_ylabel('Values')\n",
    "pypharm_pandas.set_xlabel('Drug Type')\n",
    "pypharm_pandas.set_title('Tumor Stats')\n",
    "pypharm_pandas.set_xlim(-1,len(drug_names))\n",
    "pypharm_pandas"
   ]
  },
  {
   "cell_type": "code",
   "execution_count": 24,
   "metadata": {},
   "outputs": [
    {
     "data": {
      "text/plain": [
       "<BarContainer object of 10 artists>"
      ]
     },
     "execution_count": 24,
     "metadata": {},
     "output_type": "execute_result"
    },
    {
     "data": {
      "image/png": "[encoded data removed]",
      "text/plain": [
       "<Figure size 432x288 with 1 Axes>"
      ]
     },
     "metadata": {
      "needs_background": "light"
     },
     "output_type": "display_data"
    }
   ],
   "source": [
    "# Generate a bar plot showing number of data points for each treatment regimen using pyplot\n",
    "pypharm_plot = plt.bar(drug_names, combined_df[\"Drug Regimen\"].value_counts(), width=0.5)\n",
    "plt.xticks(rotation = 'vertical')\n",
    "plt.ylabel('Values')\n",
    "plt.xlabel('Drug Type')\n",
    "plt.title('Tumor Stats')\n",
    "plt.xlim(-1,len(drug_names))\n",
    "pypharm_plot"
   ]
  },
  {
   "cell_type": "markdown",
   "metadata": {},
   "source": [
    "## Pie plots"
   ]
  },
  {
   "cell_type": "code",
   "execution_count": 26,
   "metadata": {},
   "outputs": [
    {
     "data": {
      "text/plain": [
       "Male      125\n",
       "Female    124\n",
       "Name: Sex, dtype: int64"
      ]
     },
     "execution_count": 26,
     "metadata": {},
     "output_type": "execute_result"
    }
   ],
   "source": [
    "# Getting male and female totals\n",
    "gender_df = combined_df[['Mouse ID', 'Sex']].drop_duplicates()\n",
    "gender = gender_df[\"Sex\"].value_counts()\n",
    "gender"
   ]
  },
  {
   "cell_type": "code",
   "execution_count": 42,
   "metadata": {},
   "outputs": [
    {
     "data": {
      "text/plain": [
       "<matplotlib.axes._subplots.AxesSubplot at 0x10941bf0>"
      ]
     },
     "execution_count": 42,
     "metadata": {},
     "output_type": "execute_result"
    },
    {
     "data": {
      "image/png": "[encoded data removed]",
      "text/plain": [
       "<Figure size 432x288 with 1 Axes>"
      ]
     },
     "metadata": {},
     "output_type": "display_data"
    }
   ],
   "source": [
    "# Generate a pie plot showing the distribution of female versus male mice using pandas\n",
    "gender_pandas = gender.plot.pie(autopct='%1.1f%%', legend=True,startangle=90)\n",
    "gender_pandas.set_ylabel(\"Gender Distribution\")\n",
    "gender_pandas"
   ]
  },
  {
   "cell_type": "code",
   "execution_count": 38,
   "metadata": {},
   "outputs": [
    {
     "data": {
      "image/png": "[encoded data removed]",
      "text/plain": [
       "<Figure size 432x288 with 1 Axes>"
      ]
     },
     "metadata": {},
     "output_type": "display_data"
    }
   ],
   "source": [
    "# Generate a pie plot showing the distribution of female versus male mice using pyplot\n",
    "genders_plot = plt.pie(gender, labels=gender.index, autopct=\"%1.1f%%\", startangle=90)\n",
    "plt.ylabel(\"Gender Distribution\")\n",
    "plt.legend()\n",
    "plt.show()"
   ]
  },
  {
   "cell_type": "markdown",
   "metadata": {},
   "source": [
    "## Quartiles, outliers and boxplots"
   ]
  },
  {
   "cell_type": "code",
   "execution_count": 55,
   "metadata": {},
   "outputs": [
    {
     "data": {
      "text/html": [
       "<div>\n",
       "<style scoped>\n",
       "    .dataframe tbody tr th:only-of-type {\n",
       "        vertical-align: middle;\n",
       "    }\n",
       "\n",
       "    .dataframe tbody tr th {\n",
       "        vertical-align: top;\n",
       "    }\n",
       "\n",
       "    .dataframe thead th {\n",
       "        text-align: right;\n",
       "    }\n",
       "</style>\n",
       "<table border=\"1\" class=\"dataframe\">\n",
       "  <thead>\n",
       "    <tr style=\"text-align: right;\">\n",
       "      <th></th>\n",
       "      <th></th>\n",
       "      <th>Timepoint</th>\n",
       "      <th>Tumor Volume (mm3)</th>\n",
       "    </tr>\n",
       "    <tr>\n",
       "      <th>Mouse ID</th>\n",
       "      <th>Drug Regimen</th>\n",
       "      <th></th>\n",
       "      <th></th>\n",
       "    </tr>\n",
       "  </thead>\n",
       "  <tbody>\n",
       "    <tr>\n",
       "      <th>l897</th>\n",
       "      <th>Capomulin</th>\n",
       "      <td>45</td>\n",
       "      <td>46.154737</td>\n",
       "    </tr>\n",
       "    <tr>\n",
       "      <th>j119</th>\n",
       "      <th>Capomulin</th>\n",
       "      <td>45</td>\n",
       "      <td>48.158209</td>\n",
       "    </tr>\n",
       "    <tr>\n",
       "      <th>j246</th>\n",
       "      <th>Capomulin</th>\n",
       "      <td>35</td>\n",
       "      <td>46.408361</td>\n",
       "    </tr>\n",
       "    <tr>\n",
       "      <th>u364</th>\n",
       "      <th>Capomulin</th>\n",
       "      <td>45</td>\n",
       "      <td>47.212200</td>\n",
       "    </tr>\n",
       "    <tr>\n",
       "      <th>g316</th>\n",
       "      <th>Capomulin</th>\n",
       "      <td>45</td>\n",
       "      <td>46.809225</td>\n",
       "    </tr>\n",
       "    <tr>\n",
       "      <th>...</th>\n",
       "      <th>...</th>\n",
       "      <td>...</td>\n",
       "      <td>...</td>\n",
       "    </tr>\n",
       "    <tr>\n",
       "      <th>j913</th>\n",
       "      <th>Ramicane</th>\n",
       "      <td>45</td>\n",
       "      <td>45.252534</td>\n",
       "    </tr>\n",
       "    <tr>\n",
       "      <th>j989</th>\n",
       "      <th>Ramicane</th>\n",
       "      <td>45</td>\n",
       "      <td>46.343832</td>\n",
       "    </tr>\n",
       "    <tr>\n",
       "      <th>k403</th>\n",
       "      <th>Ramicane</th>\n",
       "      <td>45</td>\n",
       "      <td>45.000000</td>\n",
       "    </tr>\n",
       "    <tr>\n",
       "      <th>m546</th>\n",
       "      <th>Ramicane</th>\n",
       "      <td>45</td>\n",
       "      <td>45.000000</td>\n",
       "    </tr>\n",
       "    <tr>\n",
       "      <th>g791</th>\n",
       "      <th>Ramicane</th>\n",
       "      <td>45</td>\n",
       "      <td>45.851531</td>\n",
       "    </tr>\n",
       "  </tbody>\n",
       "</table>\n",
       "<p>100 rows × 2 columns</p>\n",
       "</div>"
      ],
      "text/plain": [
       "                       Timepoint  Tumor Volume (mm3)\n",
       "Mouse ID Drug Regimen                               \n",
       "l897     Capomulin            45           46.154737\n",
       "j119     Capomulin            45           48.158209\n",
       "j246     Capomulin            35           46.408361\n",
       "u364     Capomulin            45           47.212200\n",
       "g316     Capomulin            45           46.809225\n",
       "...                          ...                 ...\n",
       "j913     Ramicane             45           45.252534\n",
       "j989     Ramicane             45           46.343832\n",
       "k403     Ramicane             45           45.000000\n",
       "m546     Ramicane             45           45.000000\n",
       "g791     Ramicane             45           45.851531\n",
       "\n",
       "[100 rows x 2 columns]"
      ]
     },
     "execution_count": 55,
     "metadata": {},
     "output_type": "execute_result"
    }
   ],
   "source": [
    "# Calculate the final tumor volume of each mouse across four of the most promising treatment regimens. \n",
    "# Most successful drugs Capomulin, Ramicane, Infubinol, Ceftamin\n",
    "\n",
    "# Trim down data set to include only the requested drugs\n",
    "tumor_data = combined_df[combined_df['Drug Regimen'].isin(['Ramicane', 'Capomulin', 'Infubinol', 'Ceftamin'])]\n",
    "final_volume = tumor_data.groupby([\"Mouse ID\", \"Drug Regimen\"])[\"Timepoint\", \"Tumor Volume (mm3)\"].max()\n",
    "final_volume_sorted = final_volume.sort_values(\"Drug Regimen\", ascending=True)\n",
    "final_volume_sorted"
   ]
  },
  {
   "cell_type": "code",
   "execution_count": 57,
   "metadata": {},
   "outputs": [],
   "source": [
    "#Calculate the IQR and quantitatively determine if there are any potential outliers. \n",
    "# Most successful drugs Capomulin, Ramicane, Infubinol, Ceftamin\n",
    "\n",
    "capomulin = tumor_data.loc[tumor_data[\"Drug Regimen\"] == \"Capomulin\"]\n",
    "ramicane = tumor_data.loc[tumor_data[\"Drug Regimen\"] == \"Ramicane\"]\n",
    "infubinol = tumor_data.loc[tumor_data[\"Drug Regimen\"] == \"Infubinol\"]\n",
    "ceftamin = tumor_data.loc[tumor_data[\"Drug Regimen\"] == \"Ceftamin\"]\n",
    "\n",
    "capomulin_volume = capomulin[\"Tumor Volume (mm3)\"]\n",
    "ramicane_volume = ramicane[\"Tumor Volume (mm3)\"]\n",
    "infubinol_volume = infubinol[\"Tumor Volume (mm3)\"]\n",
    "ceftamin_volume = ceftamin[\"Tumor Volume (mm3)\"]\n",
    "\n",
    "\n"
   ]
  },
  {
   "cell_type": "code",
   "execution_count": 64,
   "metadata": {},
   "outputs": [
    {
     "data": {
      "image/png": "[encoded data removed]",
      "text/plain": [
       "<Figure size 432x288 with 1 Axes>"
      ]
     },
     "metadata": {
      "needs_background": "light"
     },
     "output_type": "display_data"
    }
   ],
   "source": [
    "# Generate a box plot of the final tumor volume of each mouse across four regimens of interest\n",
    "data = [capomulin_volume, ramicane_volume, infubinol_volume, ceftamin_volume]\n",
    "fig1, ax1 = plt.subplots()\n",
    "ax1.set_title(\"Tumor Box Plot\")\n",
    "ax1.set_ylabel(\"Tumor Size\")\n",
    "ax1.set_xlabel(\"Drug Type\")\n",
    "ax1.boxplot(data)\n",
    "plt.xticks([1,2,3,4],[\"Capomulin\", \"Ramicane\", \"Infubinol\", \"Ceftamin\"])\n",
    "plt.tight_layout\n",
    "plt.show()"
   ]
  },
  {
   "cell_type": "markdown",
   "metadata": {},
   "source": [
    "## Line and scatter plots"
   ]
  },
  {
   "cell_type": "code",
   "execution_count": 120,
   "metadata": {},
   "outputs": [
    {
     "data": {
      "text/plain": [
       "'f966'"
      ]
     },
     "execution_count": 120,
     "metadata": {},
     "output_type": "execute_result"
    }
   ],
   "source": [
    "# Generate a line plot of time point versus tumor volume for a mouse treated with Capomulin\n",
    "capomulin_df = combined_df.loc[combined_df[\"Drug Regimen\"]==\"Capomulin\"]\n",
    "capomulin_mice = list(capomulin_df[\"Mouse ID\"].unique())\n",
    "random_capomulin = random.choice(capomulin_mice)\n",
    "random_capomulin"
   ]
  },
  {
   "cell_type": "code",
   "execution_count": 130,
   "metadata": {},
   "outputs": [
    {
     "data": {
      "image/png": "[encoded data removed]",
      "text/plain": [
       "<Figure size 432x288 with 1 Axes>"
      ]
     },
     "metadata": {
      "needs_background": "light"
     },
     "output_type": "display_data"
    }
   ],
   "source": [
    "\n",
    "random_df = combined_df.loc[combined_df['Mouse ID'] == random_capomulin]\n",
    "timepoint = random_df['Timepoint']\n",
    "tumor_volume = random_df['Tumor Volume (mm3)']\n",
    "plt.plot(timepoint, tumor_volume)\n",
    "plt.xlabel('Time point')\n",
    "plt.ylabel('Tumor Volume (mm3)')\n",
    "plt.title(f'Tumor Volume change of mouse {random_capomulin}')\n",
    "plt.show()"
   ]
  },
  {
   "cell_type": "code",
   "execution_count": 145,
   "metadata": {},
   "outputs": [
    {
     "data": {
      "image/png": "[encoded data removed]",
      "text/plain": [
       "<Figure size 432x288 with 1 Axes>"
      ]
     },
     "metadata": {
      "needs_background": "light"
     },
     "output_type": "display_data"
    }
   ],
   "source": [
    "# Generate a scatter plot of mouse weight versus average tumor volume for the Capomulin regimen\n",
    "df_capomulin = combined_df.loc[combined_df['Drug Regimen'] == 'Capomulin']\n",
    "df_capomulin_groupby = df_capomulin.groupby('Mouse ID')\n",
    "weights = df_capomulin_groupby['Weight (g)'].mean()\n",
    "tumor = df_capomulin_groupby['Tumor Volume (mm3)'].mean()\n",
    "plt.scatter(weights, tumor)\n",
    "plt.xlabel('Weights')\n",
    "plt.ylabel('Tumor Volume (mm3)')\n",
    "plt.title('Tumor Volume vs. Weight')\n",
    "plt.show()\n"
   ]
  },
  {
   "cell_type": "code",
   "execution_count": 132,
   "metadata": {},
   "outputs": [
    {
     "name": "stdout",
     "output_type": "stream",
     "text": [
      "The correlation between mouse weight and tumor volume for the Capomulin regimen is 0.8419\n"
     ]
    }
   ],
   "source": [
    "# Calculate the correlation coefficient and linear regression model for mouse weight and average tumor volume for the Capomulin regimen\n",
    "correlation = st.pearsonr(tumor,weights)\n",
    "print(f\"The correlation between mouse weight and tumor volume for the Capomulin regimen is {round(correlation[0],4)}\")"
   ]
  },
  {
   "cell_type": "code",
   "execution_count": 146,
   "metadata": {},
   "outputs": [],
   "source": [
    "#Creating Regression\n",
    "(slope, intercept, rvalue, pvalue, stderr) = st.linregress(weights, tumor)\n",
    "regress_values = weights * slope + intercept\n",
    "line_eq = \"y = \" + str(round(slope,2)) + \"x + \" + str(round(intercept,2))"
   ]
  },
  {
   "cell_type": "code",
   "execution_count": 150,
   "metadata": {},
   "outputs": [
    {
     "data": {
      "image/png": "[encoded data removed]",
      "text/plain": [
       "<Figure size 432x288 with 1 Axes>"
      ]
     },
     "metadata": {
      "needs_background": "light"
     },
     "output_type": "display_data"
    }
   ],
   "source": [
    "#Adding line to graph\n",
    "plt.scatter(weights, tumor)\n",
    "plt.plot(weights, regress_values, 'r--')\n",
    "plt.annotate(line_eq,(20,36))\n",
    "plt.xlabel('Weights')\n",
    "plt.ylabel('Tumor Volume (mm3)')\n",
    "plt.title('Tumor Volume vs. Weight')\n",
    "plt.show()"
   ]
  },
  {
   "cell_type": "code",
   "execution_count": null,
   "metadata": {},
   "outputs": [],
   "source": []
  }
 ],
 "metadata": {
  "anaconda-cloud": {},
  "kernelspec": {
   "display_name": "Python 3",
   "language": "python",
   "name": "python3"
  },
  "language_info": {
   "codemirror_mode": {
    "name": "ipython",
    "version": 3
   },
   "file_extension": ".py",
   "mimetype": "text/x-python",
   "name": "python",
   "nbconvert_exporter": "python",
   "pygments_lexer": "ipython3",
   "version": "3.6.5"
  }
 },
 "nbformat": 4,
 "nbformat_minor": 4
}
